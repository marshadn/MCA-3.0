{
 "cells": [
  {
   "cell_type": "code",
   "execution_count": 6,
   "metadata": {},
   "outputs": [],
   "source": [
    "import numpy as np"
   ]
  },
  {
   "cell_type": "code",
   "execution_count": 7,
   "metadata": {},
   "outputs": [],
   "source": [
    "a = np.array(([1, 2], [3, 4]))\n",
    "b = np.array(([5, 6], [7, 8]))"
   ]
  },
  {
   "cell_type": "code",
   "execution_count": 8,
   "metadata": {},
   "outputs": [
    {
     "name": "stdout",
     "output_type": "stream",
     "text": [
      "Multiplication \n",
      " [[19 22]\n",
      " [43 50]]\n",
      "Transpose \n",
      " [[1 3]\n",
      " [2 4]]\n",
      "Flattened (1D) \n",
      " [1 2 3 4]\n",
      "Inverse \n",
      " [[-2.   1. ]\n",
      " [ 1.5 -0.5]]\n",
      "Determinant \n",
      " -2.0000000000000004\n"
     ]
    }
   ],
   "source": [
    "print(\"Multiplication \\n\", a.dot(b))\n",
    "print(\"Transpose \\n\", a.transpose())\n",
    "print(\"Flattened (1D) \\n\", a.flatten())\n",
    "print(\"Inverse \\n\", np.linalg.inv(a))\n",
    "print(\"Determinant \\n\", np.linalg.det(a))\n"
   ]
  },
  {
   "cell_type": "code",
   "execution_count": 9,
   "metadata": {},
   "outputs": [
    {
     "name": "stdout",
     "output_type": "stream",
     "text": [
      "[[1, 2]]\n"
     ]
    }
   ],
   "source": [
    "# Read a matrix\n",
    "rows = int(input(\"Enter the number of rows: \"))\n",
    "cols = int(input(\"Enter the number of cols: \"))\n",
    "m = [[int(input(\"Element: \")) for _ in range(cols)] for _ in range(rows)]\n",
    "print(m)"
   ]
  },
  {
   "cell_type": "markdown",
   "metadata": {},
   "source": [
    "Write a python program to create two matrices (Take values from the user) and find the following:\n",
    "- Dot Product\n",
    "- Transpose\n",
    "- Determinant\n",
    "- Inverse\n",
    "- Trace\n",
    "- Rank\n",
    "- Eigenvalues and Eigenvectors"
   ]
  },
  {
   "cell_type": "code",
   "execution_count": 14,
   "metadata": {},
   "outputs": [
    {
     "name": "stdout",
     "output_type": "stream",
     "text": [
      "[[1 2]\n",
      " [3 4]]\n",
      "[[ 4  8]\n",
      " [16 32]]\n"
     ]
    }
   ],
   "source": [
    "# Read 2 matrices\n",
    "m1 = int(input(\"Enter the number of rows: \"))\n",
    "n1 = int(input(\"Enter the number of cols: \"))\n",
    "matrix1 = np.asarray([np.asarray([int(input(\"Element: \")) for _ in range(n1)]) for _ in range(m1)])\n",
    "\n",
    "m2 = int(input(\"Enter the number of rows: \"))\n",
    "n2 = int(input(\"Enter the number of cols: \"))\n",
    "matrix2 = np.asarray([np.asarray([int(input(\"Element: \")) for _ in range(n2)]) for _ in range(m2)])\n",
    "\n",
    "print (matrix1)\n",
    "print (matrix2)"
   ]
  },
  {
   "cell_type": "code",
   "execution_count": 15,
   "metadata": {},
   "outputs": [
    {
     "data": {
      "text/plain": [
       "array([[ 36,  72],\n",
       "       [ 76, 152]])"
      ]
     },
     "execution_count": 15,
     "metadata": {},
     "output_type": "execute_result"
    }
   ],
   "source": [
    "# Dot Product\n",
    "matrix1.dot(matrix2)"
   ]
  },
  {
   "cell_type": "code",
   "execution_count": 17,
   "metadata": {},
   "outputs": [
    {
     "data": {
      "text/plain": [
       "array([[1, 3],\n",
       "       [2, 4]])"
      ]
     },
     "execution_count": 17,
     "metadata": {},
     "output_type": "execute_result"
    }
   ],
   "source": [
    "# Transpose\n",
    "matrix1.transpose()"
   ]
  },
  {
   "cell_type": "code",
   "execution_count": 25,
   "metadata": {},
   "outputs": [
    {
     "data": {
      "text/plain": [
       "0.0"
      ]
     },
     "execution_count": 25,
     "metadata": {},
     "output_type": "execute_result"
    }
   ],
   "source": [
    "# Determinant\n",
    "np.linalg.det(matrix2)"
   ]
  },
  {
   "cell_type": "code",
   "execution_count": 26,
   "metadata": {},
   "outputs": [
    {
     "data": {
      "text/plain": [
       "array([[-2. ,  1. ],\n",
       "       [ 1.5, -0.5]])"
      ]
     },
     "execution_count": 26,
     "metadata": {},
     "output_type": "execute_result"
    }
   ],
   "source": [
    "# Inverse\n",
    "np.linalg.inv(matrix1)"
   ]
  },
  {
   "cell_type": "code",
   "execution_count": 28,
   "metadata": {},
   "outputs": [
    {
     "data": {
      "text/plain": [
       "5"
      ]
     },
     "execution_count": 28,
     "metadata": {},
     "output_type": "execute_result"
    }
   ],
   "source": [
    "# Trace\n",
    "np.trace(matrix1)"
   ]
  },
  {
   "cell_type": "code",
   "execution_count": 29,
   "metadata": {},
   "outputs": [
    {
     "data": {
      "text/plain": [
       "2"
      ]
     },
     "execution_count": 29,
     "metadata": {},
     "output_type": "execute_result"
    }
   ],
   "source": [
    "# Rank\n",
    "np.linalg.matrix_rank(matrix1)"
   ]
  },
  {
   "cell_type": "code",
   "execution_count": 32,
   "metadata": {},
   "outputs": [
    {
     "data": {
      "text/plain": [
       "EigResult(eigenvalues=array([-0.37228132,  5.37228132]), eigenvectors=array([[-0.82456484, -0.41597356],\n",
       "       [ 0.56576746, -0.90937671]]))"
      ]
     },
     "execution_count": 32,
     "metadata": {},
     "output_type": "execute_result"
    }
   ],
   "source": [
    "# Eigenvalues and eigenvectors\n",
    "np.linalg.eig(matrix1)"
   ]
  },
  {
   "cell_type": "code",
   "execution_count": 39,
   "metadata": {},
   "outputs": [
    {
     "name": "stdout",
     "output_type": "stream",
     "text": [
      "[[1 2 3]\n",
      " [4 5 6]]\n"
     ]
    }
   ],
   "source": [
    "# Read matrix\n",
    "m = int(input(\"R: \"))\n",
    "n = int(input(\"C: \"))\n",
    "\n",
    "matrix = np.asarray([int(input(\"Element: \")) for _ in range(m * n)]).reshape(m, n)\n",
    "print(matrix)"
   ]
  },
  {
   "cell_type": "markdown",
   "metadata": {},
   "source": [
    "Write a numpy program to create a vector with values from 0 to 20 and change the sign of the numbers in the range from 9 to 15."
   ]
  },
  {
   "cell_type": "code",
   "execution_count": 48,
   "metadata": {},
   "outputs": [
    {
     "name": "stdout",
     "output_type": "stream",
     "text": [
      "[ 1  2  3  4  5  6  7  8  9 10 11 12 13 14 15 16 17 18 19 20]\n",
      "[  1   2   3   4   5   6   7   8  -9 -10 -11 -12 -13 -14 -15  16  17  18\n",
      "  19  20]\n"
     ]
    }
   ],
   "source": [
    "vec = np.array(range(1, 21))\n",
    "print(vec)\n",
    "\n",
    "for i in range(8, 15):\n",
    "    vec[i] = -vec[i]\n",
    "print(vec)"
   ]
  },
  {
   "cell_type": "markdown",
   "metadata": {},
   "source": [
    "Write a numpy programme to compute the sum of all elements some of each column and some of each row of a given array."
   ]
  },
  {
   "cell_type": "code",
   "execution_count": 54,
   "metadata": {},
   "outputs": [
    {
     "data": {
      "text/plain": [
       "array([[0.02245591, 0.49616521, 0.04086152, 0.84039784, 0.13087239],\n",
       "       [0.38593444, 0.73814152, 0.4306377 , 0.80108468, 0.34430218],\n",
       "       [0.59220407, 0.50634785, 0.70095769, 0.91627869, 0.66095356],\n",
       "       [0.22149231, 0.25840895, 0.08289154, 0.67439943, 0.44196552]])"
      ]
     },
     "execution_count": 54,
     "metadata": {},
     "output_type": "execute_result"
    }
   ],
   "source": [
    "arr = np.random.rand(4, 5)\n",
    "arr"
   ]
  },
  {
   "cell_type": "markdown",
   "metadata": {},
   "source": [
    "Write a numpy programme to save a given array to a text file and load it."
   ]
  },
  {
   "cell_type": "code",
   "execution_count": 62,
   "metadata": {},
   "outputs": [
    {
     "data": {
      "text/plain": [
       "array([[0.79893863, 0.26709718, 0.98912475],\n",
       "       [0.76054655, 0.8282849 , 0.21869616]])"
      ]
     },
     "execution_count": 62,
     "metadata": {},
     "output_type": "execute_result"
    }
   ],
   "source": [
    "arr = np.random.rand(2, 3)\n",
    "arr"
   ]
  },
  {
   "cell_type": "code",
   "execution_count": 63,
   "metadata": {},
   "outputs": [
    {
     "data": {
      "text/plain": [
       "array([[0.79893863, 0.26709718, 0.98912475],\n",
       "       [0.76054655, 0.8282849 , 0.21869616]])"
      ]
     },
     "execution_count": 63,
     "metadata": {},
     "output_type": "execute_result"
    }
   ],
   "source": [
    "np.savetxt(\"file.txt\", arr)\n",
    "np.loadtxt(\"file.txt\")"
   ]
  },
  {
   "cell_type": "markdown",
   "metadata": {},
   "source": [
    "Write a numpy programme to cheque whether to arrays are equal."
   ]
  },
  {
   "cell_type": "code",
   "execution_count": 66,
   "metadata": {},
   "outputs": [
    {
     "data": {
      "text/plain": [
       "array([ True,  True, False, False])"
      ]
     },
     "execution_count": 66,
     "metadata": {},
     "output_type": "execute_result"
    }
   ],
   "source": [
    "arr1, arr2 = np.array([1, 2, 3, 4]), np.array([1, 2, 2, 3])\n",
    "\n",
    "np.equal(arr1, arr2)"
   ]
  },
  {
   "cell_type": "markdown",
   "metadata": {},
   "source": [
    "Write a numpy programme to create a 4 x 4 array with random values. \n",
    "Create a new array from the set array by swapping first and last rows."
   ]
  },
  {
   "cell_type": "code",
   "execution_count": 76,
   "metadata": {},
   "outputs": [
    {
     "name": "stdout",
     "output_type": "stream",
     "text": [
      "[[0.77132064 0.02075195 0.63364823 0.74880388]\n",
      " [0.49850701 0.22479665 0.19806286 0.76053071]\n",
      " [0.16911084 0.08833981 0.68535982 0.95339335]\n",
      " [0.00394827 0.51219226 0.81262096 0.61252607]]\n",
      "\n",
      "[[0.00394827 0.51219226 0.81262096 0.61252607]\n",
      " [0.49850701 0.22479665 0.19806286 0.76053071]\n",
      " [0.16911084 0.08833981 0.68535982 0.95339335]\n",
      " [0.77132064 0.02075195 0.63364823 0.74880388]]\n"
     ]
    }
   ],
   "source": [
    "np.random.seed(10) # Fix the random values\n",
    "arr = np.random.rand(4, 4)\n",
    "print(arr)\n",
    "print()\n",
    "\n",
    "arr[[0, 3]] = arr[[3, 0]]\n",
    "print(arr)"
   ]
  },
  {
   "cell_type": "markdown",
   "metadata": {},
   "source": [
    "Create a numpy programme to multiply two given arrays of same size element by element."
   ]
  },
  {
   "cell_type": "code",
   "execution_count": 75,
   "metadata": {},
   "outputs": [
    {
     "data": {
      "text/plain": [
       "array([[ 2,  8],\n",
       "       [18, 32]])"
      ]
     },
     "execution_count": 75,
     "metadata": {},
     "output_type": "execute_result"
    }
   ],
   "source": [
    "arr1, arr2 = np.array([[1, 2], [3, 4]]), np.array([[2, 4], [6, 8]])\n",
    "\n",
    "prod = np.array([[0, 0], [0, 0]])\n",
    "for i in range(2):\n",
    "    for j in range(2):\n",
    "        prod[i, j] = arr1[i, j] * arr2[i, j]\n",
    "\n",
    "prod\n"
   ]
  }
 ],
 "metadata": {
  "kernelspec": {
   "display_name": "Python 3",
   "language": "python",
   "name": "python3"
  },
  "language_info": {
   "codemirror_mode": {
    "name": "ipython",
    "version": 3
   },
   "file_extension": ".py",
   "mimetype": "text/x-python",
   "name": "python",
   "nbconvert_exporter": "python",
   "pygments_lexer": "ipython3",
   "version": "3.12.2"
  }
 },
 "nbformat": 4,
 "nbformat_minor": 2
}
