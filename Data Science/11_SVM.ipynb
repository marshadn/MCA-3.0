{
 "cells": [
  {
   "cell_type": "code",
   "execution_count": null,
   "id": "ec26cc51",
   "metadata": {
    "vscode": {
     "languageId": "plaintext"
    }
   },
   "outputs": [],
   "source": [
    "# Exercise 11: Support Vector Machine Implementation on a Random Dataset\n",
    "\n",
    "# Importing necessary libraries\n",
    "from sklearn.datasets import make_classification\n",
    "from sklearn.model_selection import train_test_split\n",
    "from sklearn.svm import SVC\n",
    "from sklearn.metrics import accuracy_score, classification_report\n",
    "import matplotlib.pyplot as plt\n",
    "import numpy as np\n",
    "\n",
    "# Generating a random dataset\n",
    "X, y = make_classification(n_samples=1000, n_features=2, n_informative=2, n_redundant=0, random_state=42)\n",
    "\n",
    "# Splitting the dataset into training and testing sets\n",
    "X_train, X_test, y_train, y_test = train_test_split(X, y, train_size=0.8, random_state=42)\n",
    "\n",
    "# Creating and training the Support Vector Machine model\n",
    "s = SVC(kernel='linear')\n",
    "s.fit(X_train, y_train)\n",
    "\n",
    "# Making predictions\n",
    "y_pred = s.predict(X_test)\n",
    "\n",
    "# Evaluating the model\n",
    "ac = accuracy_score(y_test, y_pred)\n",
    "print(\"Accuracy:\", ac)\n",
    "report = classification_report(y_test, y_pred)\n",
    "print(\"\\nClassification Report:\")\n",
    "print(report)\n",
    "\n",
    "# Support Vector Machine Decision Boundary Visualization\n",
    "plt.figure(figsize=(8, 6))\n",
    "plt.scatter(X[:, 0], X[:, 1], c=y, cmap='viridis', s=50, alpha=0.6)\n",
    "ax = plt.gca()\n",
    "xlimit = ax.set_xlim()\n",
    "ylimit = ax.set_ylim()\n",
    "\n",
    "# Creating a grid to plot the decision boundary\n",
    "xx, yy = np.meshgrid(np.linspace(xlimit[0], xlimit[1], 100), np.linspace(ylimit[0], ylimit[1], 100))\n",
    "z = s.decision_function(np.c_[xx.ravel(), yy.ravel()])\n",
    "z = z.reshape(xx.shape)\n",
    "\n",
    "# Plotting the decision boundary\n",
    "plt.contour(xx, yy, z, colors='k', levels=[-1, 0, 1], alpha=0.5, linestyles=['--', '-', '--'])\n",
    "plt.title(\"SVM Decision Boundary\")\n",
    "plt.xlabel(\"Feature 1\")\n",
    "plt.ylabel(\"Feature 2\")\n",
    "plt.show()\n"
   ]
  }
 ],
 "metadata": {
  "language_info": {
   "name": "python"
  }
 },
 "nbformat": 4,
 "nbformat_minor": 5
}
