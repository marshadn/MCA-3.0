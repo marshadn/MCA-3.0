{
 "cells": [
  {
   "cell_type": "code",
   "execution_count": null,
   "id": "9232c980-0d3a-4d4c-a83f-134534f1ba50",
   "metadata": {},
   "outputs": [],
   "source": [
    "import numpy as np\n",
    "\n",
    "# Input matrices from user\n",
    "matrix1 = []\n",
    "matrix2 = []\n",
    "\n",
    "r1, c1 = list(map(int, input(\"Enter no of rows and cols for matrix 1: \").split()))\n",
    "r2, c2 = list(map(int, input(\"Enter no of rows and cols for matrix 2: \").split()))\n",
    "\n",
    "# Collect and reshape matrix 1\n",
    "m = list(map(int, input(\"Enter elements of matrix 1: \").split()))\n",
    "matrix1.append(m)\n",
    "m1 = np.array(matrix1).reshape(r1, c1)\n",
    "\n",
    "# Collect and reshape matrix 2\n",
    "m = list(map(int, input(\"Enter elements of matrix 2: \").split()))\n",
    "matrix2.append(m)\n",
    "m2 = np.array(matrix2).reshape(r2, c2)\n",
    "\n",
    "print(\"Matrix 1:\")\n",
    "print(m1)\n",
    "print(\"\\nMatrix 2:\")\n",
    "print(m2)\n",
    "\n",
    "# i. Dot Product\n",
    "dot = m2.dot(m1)\n",
    "print(\"\\nDot Product:\")\n",
    "print(dot)\n",
    "\n",
    "# ii. Transpose\n",
    "print(\"\\nTranspose of matrix 1:\")\n",
    "print(np.transpose(m1))\n",
    "\n",
    "# iii. Determinant\n",
    "print(\"\\nDeterminant of matrix 2\")\n",
    "print(np.linalg.det(m1))\n",
    "\n",
    "# iv. Inverse\n",
    "print(\"\\nInverse of matrix 2:\")\n",
    "print(np.linalg.inv(m2))\n",
    "\n",
    "# v. Trace\n",
    "print(\"\\nTrace of matrix 1\")\n",
    "print(m1.trace())\n",
    "\n",
    "# vi. Rank\n",
    "print(\"\\nRank of matrix 1\")\n",
    "print(np.linalg.matrix_rank(m1))\n",
    "\n",
    "# vii. Eigen values and Eigen vectors\n",
    "print(\"\\nEigen Values of matrix 1\")\n",
    "print(np.linalg.eig(m2))\n"
   ]
  },
  {
   "cell_type": "code",
   "execution_count": null,
   "id": "ea760115",
   "metadata": {},
   "outputs": [],
   "source": []
  }
 ],
 "metadata": {
  "kernelspec": {
   "display_name": "Python 3 (ipykernel)",
   "language": "python",
   "name": "python3"
  },
  "language_info": {
   "codemirror_mode": {
    "name": "ipython",
    "version": 3
   },
   "file_extension": ".py",
   "mimetype": "text/x-python",
   "name": "python",
   "nbconvert_exporter": "python",
   "pygments_lexer": "ipython3",
   "version": "3.12.6"
  }
 },
 "nbformat": 4,
 "nbformat_minor": 5
}
