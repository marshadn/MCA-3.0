{
 "cells": [
  {
   "cell_type": "code",
   "execution_count": 12,
   "id": "cd99b24f",
   "metadata": {},
   "outputs": [
    {
     "name": "stdout",
     "output_type": "stream",
     "text": [
      "[[1 2]\n",
      " [3 4]]\n",
      "[[5 6]\n",
      " [7 8]]\n",
      "[[-2.   1. ]\n",
      " [ 1.5 -0.5]]\n",
      "[[1 3]\n",
      " [2 4]]\n",
      "-1.999999999999999\n",
      "[[19 22]\n",
      " [43 50]]\n",
      "[1 2 3 4]\n"
     ]
    }
   ],
   "source": [
    "import numpy as np\n",
    "m1=np.array([[1,2],[3,4]])\n",
    "m2=np.array([[5,6],[7,8]])\n",
    "print(m1)\n",
    "print(m2)\n",
    "a=np.linalg.inv(m1)\n",
    "print(a)\n",
    "b=np.transpose(m1)\n",
    "print(b)\n",
    "c=np.linalg.det(m2)\n",
    "print(c)\n",
    "d=np.dot(m1,m2)\n",
    "print(d)\n",
    "e=m1.flatten()\n",
    "print(e)\n",
    "\n"
   ]
  },
  {
   "cell_type": "code",
   "execution_count": 26,
   "id": "cd59d841",
   "metadata": {},
   "outputs": [
    {
     "name": "stdout",
     "output_type": "stream",
     "text": [
      "Enter the no.of rows:2\n",
      "Enter the no.of cols:2\n",
      "Enter values:1\n",
      "Enter values:2\n",
      "Enter values:3\n",
      "Enter values:4\n",
      "[[1, 2], [3, 4]]\n",
      "Tranpose of the matrix is [[1 3]\n",
      " [2 4]]\n",
      "Determinant of the matrix is -1.999999999999999\n"
     ]
    }
   ],
   "source": [
    "\n",
    "mat=[]\n",
    "r=int(input(\"Enter the no.of rows:\"))\n",
    "c=int(input(\"Enter the no.of cols:\"))\n",
    "for i in range(r):\n",
    "    row= []\n",
    "    for j in range(c):\n",
    "        \n",
    "        a=int(input(\"Enter values:\"))\n",
    "        row.append(a)\n",
    "    mat.append(row)  \n",
    "        \n",
    "print(mat)\n",
    "x=np.transpose(mat)\n",
    "print(\"Tranpose of the matrix is\",x)\n",
    "c=np.linalg.det(m2)\n",
    "print(\"Determinant of the matrix is\",c)"
   ]
  },
  {
   "cell_type": "code",
   "execution_count": 4,
   "id": "46c62daa",
   "metadata": {},
   "outputs": [
    {
     "name": "stdout",
     "output_type": "stream",
     "text": [
      "Enter row:2\n",
      "Enter cols:2\n",
      " 1 2 3 4\n",
      "[[1 2]\n",
      " [3 4]]\n",
      "5\n",
      "2\n",
      "(array([-0.37228132,  5.37228132]), array([[-0.82456484, -0.41597356],\n",
      "       [ 0.56576746, -0.90937671]]))\n"
     ]
    }
   ],
   "source": [
    "import numpy as np\n",
    "r1=int(input(\"Enter row:\"))\n",
    "c1=int(input(\"Enter cols:\"))\n",
    "mat=[]\n",
    "a=list(map(int,input(\" \").split()))\n",
    "matrix=np.array(a).reshape(r1,c1)\n",
    "print(matrix)\n",
    "z1=np.trace(matrix)\n",
    "z2=matrix.trace()\n",
    "print(z2)\n",
    "z3=np.linalg.matrix_rank(matrix)\n",
    "print(z3)\n",
    "z4=np.linalg.eig(matrix)\n",
    "print(z4)\n"
   ]
  },
  {
   "cell_type": "code",
   "execution_count": null,
   "id": "4a956ebe",
   "metadata": {},
   "outputs": [],
   "source": [
    "#numpy prgrm to create a vector with values from 0-20 & change the sign of the numbers in the range from 9-15\n",
    "# sum of all elmnts in arr ,rows , cols also\n",
    "#write a numpy pgm to save a given array to save a txt file and load it\n",
    "# check the given 2 arrs equaln or not\n",
    "# 4x4 arr with random() values ,create a newarr from the setArr by swapping 1st and last rows\n",
    "#multiply 2 given arrs of same size elmnt by elmnt\n"
   ]
  },
  {
   "cell_type": "code",
   "execution_count": null,
   "id": "cb7182bd",
   "metadata": {},
   "outputs": [],
   "source": []
  },
  {
   "cell_type": "code",
   "execution_count": null,
   "id": "e2b6dcbc",
   "metadata": {},
   "outputs": [],
   "source": []
  },
  {
   "cell_type": "code",
   "execution_count": 17,
   "id": "f95bd78e",
   "metadata": {},
   "outputs": [
    {
     "name": "stdout",
     "output_type": "stream",
     "text": [
      "-9\n",
      "-10\n",
      "-11\n",
      "-12\n",
      "-13\n",
      "-14\n",
      "-15\n"
     ]
    }
   ],
   "source": [
    "import numpy as np\n",
    "m2=np.arange(0,21)\n",
    "for i in range(9,21):\n",
    "        \n",
    "        if i>=9 and i<=15:\n",
    "            y=i*-1\n",
    "            print(y)"
   ]
  },
  {
   "cell_type": "code",
   "execution_count": 33,
   "id": "14d4ff33",
   "metadata": {},
   "outputs": [
    {
     "name": "stdout",
     "output_type": "stream",
     "text": [
      "10\n",
      "[3 7]\n",
      "[4 6]\n"
     ]
    }
   ],
   "source": [
    "m1=np.array([[1,2],[3,4]])\n",
    "sum1=np.sum(m1)\n",
    "print(sum1)\n",
    "print(np.sum(m1,axis=1))# sum of rows\n",
    "print(np.sum(m1,axis=0))# sum of cols\n",
    "        \n",
    "\n",
    "    \n",
    "    "
   ]
  },
  {
   "cell_type": "code",
   "execution_count": 42,
   "id": "85b755e9",
   "metadata": {},
   "outputs": [
    {
     "name": "stdout",
     "output_type": "stream",
     "text": [
      "[[1. 2.]\n",
      " [3. 4.]]\n"
     ]
    }
   ],
   "source": [
    "m2=np.array([[1,2],[3,4]])\n",
    "y=np.savetxt(\"file.txt\",m2)\n",
    "z=np.loadtxt(\"file.txt\")\n",
    "print(z)"
   ]
  },
  {
   "cell_type": "code",
   "execution_count": 47,
   "id": "19dc87b6",
   "metadata": {},
   "outputs": [
    {
     "name": "stdout",
     "output_type": "stream",
     "text": [
      "[ True  True False  True]\n"
     ]
    }
   ],
   "source": [
    "m1=np.array([1,2,5,4])\n",
    "m2=np.array([1,2,3,4])\n",
    "a=np.equal(m1,m2)\n",
    "print(a)\n"
   ]
  },
  {
   "cell_type": "code",
   "execution_count": 66,
   "id": "cb18f6ff",
   "metadata": {},
   "outputs": [
    {
     "name": "stdout",
     "output_type": "stream",
     "text": [
      "[[49. 11.  5. 88.]\n",
      " [39. 30. 76. 75.]\n",
      " [15. 99. 51. 50.]\n",
      " [75. 30. 71. 43.]]\n",
      "[[75. 30. 71. 43.]\n",
      " [39. 30. 76. 75.]\n",
      " [15. 99. 51. 50.]\n",
      " [49. 11.  5. 88.]]\n"
     ]
    }
   ],
   "source": [
    " #4x4 arr with random() values ,create a newarr from the setArr by swapping 1st and last rows\n",
    "arr = np. random. rand(4, 4)\n",
    "y=np.round(arr*100)\n",
    "print(y)\n",
    "y[[0,-1]]=y[[-1,0]]\n",
    "print(y)"
   ]
  },
  {
   "cell_type": "code",
   "execution_count": 47,
   "id": "67f74f1b",
   "metadata": {},
   "outputs": [
    {
     "name": "stdout",
     "output_type": "stream",
     "text": [
      "[ True  True False  True]\n"
     ]
    }
   ],
   "source": [
    "m1=np.array([1,2,5,4])\n",
    "m2=np.array([1,2,3,4])\n",
    "a=np.equal(m1,m2)\n",
    "print(a)\n"
   ]
  },
  {
   "cell_type": "code",
   "execution_count": 69,
   "id": "48b7d2e8",
   "metadata": {},
   "outputs": [
    {
     "name": "stdout",
     "output_type": "stream",
     "text": [
      "[[ 1  4]\n",
      " [ 9 16]]\n"
     ]
    }
   ],
   "source": [
    "m1=np.array([[1,2],[3,4]])\n",
    "m2=np.array([[1,2],[3,4]])\n",
    "a=np.multiply(m1,m2)\n",
    "print(a)\n"
   ]
  },
  {
   "cell_type": "code",
   "execution_count": null,
   "id": "b06ec226",
   "metadata": {},
   "outputs": [],
   "source": []
  }
 ],
 "metadata": {
  "kernelspec": {
   "display_name": "Python 3 (ipykernel)",
   "language": "python",
   "name": "python3"
  },
  "language_info": {
   "codemirror_mode": {
    "name": "ipython",
    "version": 3
   },
   "file_extension": ".py",
   "mimetype": "text/x-python",
   "name": "python",
   "nbconvert_exporter": "python",
   "pygments_lexer": "ipython3",
   "version": "3.11.5"
  }
 },
 "nbformat": 4,
 "nbformat_minor": 5
}
