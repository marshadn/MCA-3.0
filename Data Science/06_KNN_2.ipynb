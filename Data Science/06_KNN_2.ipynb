{
 "cells": [
  {
   "cell_type": "code",
   "execution_count": null,
   "id": "6f3652d7-94da-4ba3-b8d4-8bc2bc95316f",
   "metadata": {},
   "outputs": [],
   "source": [
    "# Exercise 6: KNN - Diabetes Dataset\n",
    "\n",
    "# Importing necessary libraries\n",
    "import pandas as pd\n",
    "from sklearn import datasets\n",
    "from sklearn import neighbors\n",
    "from sklearn.model_selection import train_test_split\n",
    "from sklearn.metrics import accuracy_score\n",
    "import matplotlib.pyplot as plt\n",
    "import seaborn as sns\n",
    "import numpy as np\n",
    "from sklearn.preprocessing import StandardScaler\n",
    "\n",
    "# Loading the Diabetes dataset\n",
    "db = datasets.load_diabetes()\n",
    "\n",
    "# Standardizing the features\n",
    "scaler = StandardScaler()\n",
    "X, y = db.data, db.target\n",
    "X_scaled = scaler.fit_transform(X)\n",
    "\n",
    "# Binning the target variable for classification\n",
    "y_binned = np.digitize(y, bins=[y.mean() - y.std(), y.mean() + y.std()])\n",
    "\n",
    "# Splitting the dataset into training and testing sets\n",
    "X_train, X_test, y_train, y_test = train_test_split(X_scaled, y_binned, train_size=0.8, random_state=42)\n",
    "\n",
    "# Creating and training the KNN classifier\n",
    "classifier = neighbors.KNeighborsClassifier(n_neighbors=5)\n",
    "classifier.fit(X_train, y_train)\n",
    "\n",
    "# Making predictions and calculating accuracy\n",
    "y_pred = classifier.predict(X_test)\n",
    "accuracy = accuracy_score(y_test, y_pred)\n",
    "print(f'Accuracy: {accuracy * 100:.2f}%')\n",
    "\n",
    "# Prediction on unseen data\n",
    "input_data = np.array([[4, 130, 70, 20, 80, 30.5, 0.4, 45, 0, 0]])\n",
    "prediction = classifier.predict(input_data)\n",
    "print(\"Prediction:\", \"Diabetic\" if prediction[0] == 1 else \"Non-Diabetic\")\n",
    "\n",
    "# Scatter Plot of Actual vs. Predicted Outcomes\n",
    "plt.figure(figsize=(10, 6))\n",
    "colors = np.where(y_pred == 0, 'green', 'red')\n",
    "plt.scatter(X_test[:, 0], X_test[:, 2], color=colors, alpha=0.7, edgecolors='k')\n",
    "plt.title('KNN Predictions (Age vs. Glucose)')\n",
    "plt.xlabel('Age (standardized)')\n",
    "plt.ylabel('Glucose Level (standardized)')\n",
    "plt.grid()\n",
    "plt.scatter([], [], color='green', label='Predicted Class 0 (Non-Diabetic)')\n",
    "plt.scatter([], [], color='red', label='Predicted Class 1 (Diabetic)')\n",
    "plt.legend()\n",
    "plt.show()\n"
   ]
  }
 ],
 "metadata": {
  "kernelspec": {
   "display_name": "Python 3 (ipykernel)",
   "language": "python",
   "name": "python3"
  },
  "language_info": {
   "codemirror_mode": {
    "name": "ipython",
    "version": 3
   },
   "file_extension": ".py",
   "mimetype": "text/x-python",
   "name": "python",
   "nbconvert_exporter": "python",
   "pygments_lexer": "ipython3",
   "version": "3.12.6"
  }
 },
 "nbformat": 4,
 "nbformat_minor": 5
}
