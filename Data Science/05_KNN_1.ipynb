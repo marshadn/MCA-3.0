{
 "cells": [
  {
   "cell_type": "code",
   "execution_count": null,
   "id": "d29db26f-28dc-4fbf-bff9-c1cbbfa89b06",
   "metadata": {},
   "outputs": [],
   "source": [
    "# Exercise 5: K-Nearest Neighbour (KNN)\n",
    "\n",
    "# Importing necessary libraries\n",
    "import pandas as pd\n",
    "import numpy as np\n",
    "from sklearn import datasets\n",
    "from sklearn import neighbors\n",
    "from sklearn.model_selection import train_test_split\n",
    "from sklearn.metrics import accuracy_score\n",
    "import matplotlib.pyplot as plt\n",
    "\n",
    "# Loading the Iris dataset\n",
    "iris = datasets.load_iris()\n",
    "X, y = iris.data, iris.target\n",
    "\n",
    "# Splitting the dataset into training and testing sets\n",
    "X_train, X_test, y_train, y_test = train_test_split(X, y, train_size=0.7, random_state=78)\n",
    "\n",
    "# Creating and training the KNN classifier\n",
    "classifier = neighbors.KNeighborsClassifier(n_neighbors=3)\n",
    "classifier.fit(X_train, y_train)\n",
    "\n",
    "# Making predictions and calculating accuracy\n",
    "y_pred = classifier.predict(X_test)\n",
    "accuracy = accuracy_score(y_test, y_pred)\n",
    "print(f'Accuracy: {accuracy * 100:.2f}%')\n",
    "\n",
    "# Prediction on unseen data\n",
    "result = classifier.predict([[3.5, 5.1, 4.8, 2.9]])\n",
    "print(\"Predicted Class:\", datasets.load_iris().target_names[result])\n",
    "\n",
    "# Box Plot to visualize the distribution of predictions versus the true labels\n",
    "actual_counts = np.bincount(y_test)\n",
    "predicted_counts = np.bincount(y_pred)\n",
    "classes = iris.target_names\n",
    "x = np.arange(len(classes))\n",
    "width = 0.35\n",
    "\n",
    "plt.bar(x - width/2, actual_counts, width, label='Actual', color='blue')\n",
    "plt.bar(x + width/2, predicted_counts, width, label='Predicted', color='orange')\n",
    "plt.xlabel('Classes')\n",
    "plt.ylabel('Count')\n",
    "plt.title('Actual vs Predicted Class Distribution')\n",
    "plt.xticks(x, classes)\n",
    "plt.legend()\n",
    "plt.grid()\n",
    "plt.show()\n"
   ]
  }
 ],
 "metadata": {
  "kernelspec": {
   "display_name": "Python 3 (ipykernel)",
   "language": "python",
   "name": "python3"
  },
  "language_info": {
   "codemirror_mode": {
    "name": "ipython",
    "version": 3
   },
   "file_extension": ".py",
   "mimetype": "text/x-python",
   "name": "python",
   "nbconvert_exporter": "python",
   "pygments_lexer": "ipython3",
   "version": "3.12.6"
  }
 },
 "nbformat": 4,
 "nbformat_minor": 5
}
