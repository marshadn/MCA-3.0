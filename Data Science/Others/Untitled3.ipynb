{
 "cells": [
  {
   "cell_type": "code",
   "execution_count": 23,
   "id": "943fbf17",
   "metadata": {},
   "outputs": [
    {
     "data": {
      "text/html": [
       "<div>\n",
       "<style scoped>\n",
       "    .dataframe tbody tr th:only-of-type {\n",
       "        vertical-align: middle;\n",
       "    }\n",
       "\n",
       "    .dataframe tbody tr th {\n",
       "        vertical-align: top;\n",
       "    }\n",
       "\n",
       "    .dataframe thead th {\n",
       "        text-align: right;\n",
       "    }\n",
       "</style>\n",
       "<table border=\"1\" class=\"dataframe\">\n",
       "  <thead>\n",
       "    <tr style=\"text-align: right;\">\n",
       "      <th></th>\n",
       "      <th>cars</th>\n",
       "      <th>colour</th>\n",
       "    </tr>\n",
       "  </thead>\n",
       "  <tbody>\n",
       "    <tr>\n",
       "      <th>0</th>\n",
       "      <td>Bugatti</td>\n",
       "      <td>Black</td>\n",
       "    </tr>\n",
       "    <tr>\n",
       "      <th>1</th>\n",
       "      <td>McLaren</td>\n",
       "      <td>Papaya Orange</td>\n",
       "    </tr>\n",
       "    <tr>\n",
       "      <th>2</th>\n",
       "      <td>Porsche</td>\n",
       "      <td>Silver</td>\n",
       "    </tr>\n",
       "  </tbody>\n",
       "</table>\n",
       "</div>"
      ],
      "text/plain": [
       "      cars         colour\n",
       "0  Bugatti          Black\n",
       "1  McLaren  Papaya Orange\n",
       "2  Porsche         Silver"
      ]
     },
     "execution_count": 23,
     "metadata": {},
     "output_type": "execute_result"
    }
   ],
   "source": [
    "import numpy as np\n",
    "import pandas as pd\n",
    "\n",
    "mydataset = {\"cars\":[\"Bugatti\",\"McLaren\",\"Porsche\"],\n",
    "            \"colour\":[\"Black\",\"Papaya Orange\",\"Silver\"]}\n",
    "s = pd.DataFrame(mydataset) \n",
    "s"
   ]
  },
  {
   "cell_type": "code",
   "execution_count": 18,
   "id": "98ff6750",
   "metadata": {},
   "outputs": [
    {
     "data": {
      "text/plain": [
       "0    40\n",
       "1    50\n",
       "2    60\n",
       "dtype: int32"
      ]
     },
     "execution_count": 18,
     "metadata": {},
     "output_type": "execute_result"
    }
   ],
   "source": [
    "import numpy as np\n",
    "import pandas as pd\n",
    "# series data type similiar to numpy array it can have labels\n",
    "# this series can hold any data (python object also), typecasting\n",
    "\n",
    "labels = ['a','b','c','d']\n",
    "list1 =[1,2,3,4]\n",
    "\n",
    "arr = np.array([40,50,60])\n",
    "dict1 = {\n",
    "    'A':10,\n",
    "    'B':20,\n",
    "    'C':30,\n",
    "}\n",
    "\n",
    "s = pd.Series(data=arr)\n"
   ]
  },
  {
   "cell_type": "code",
   "execution_count": 24,
   "id": "37563143",
   "metadata": {},
   "outputs": [],
   "source": [
    "# Create a list of fruits, with colours. make label as color.\n",
    "# Create a 2D with list of fruits and colours.\n",
    "\n",
    "import numpy as np\n",
    "import pandas as pd\n",
    "\n",
    "fruits = {\n",
    "    \"color\":[\"Raspberry\",\"Snake Fruit\",'']\n",
    "}"
   ]
  },
  {
   "cell_type": "code",
   "execution_count": 28,
   "id": "c732032b",
   "metadata": {},
   "outputs": [
    {
     "data": {
      "text/plain": [
       "a    1\n",
       "b    2\n",
       "c    3\n",
       "dtype: int64"
      ]
     },
     "execution_count": 28,
     "metadata": {},
     "output_type": "execute_result"
    }
   ],
   "source": [
    "import numpy as np\n",
    "import pandas as pd\n",
    "\n",
    "s = pd.Series([1,2,3],index=['a','b','c'])\n",
    "s\n"
   ]
  },
  {
   "cell_type": "code",
   "execution_count": 203,
   "id": "d85541ad",
   "metadata": {},
   "outputs": [
    {
     "name": "stdout",
     "output_type": "stream",
     "text": [
      "First 51\n",
      "Second 50\n"
     ]
    }
   ],
   "source": [
    "import numpy as np\n",
    "import pandas as pd\n",
    "import random\n",
    "# Seed value random is used to generate random vals\n",
    "# Seed function is used to save the state of random function so that it can generate some random values on multiple execution of the code.\n",
    "# Seed is used to initialise the random value generator\n",
    "\n",
    "random.seed(0)\n",
    "\n",
    "print(\"First\",random.randint(50,51))\n",
    "\n",
    "random.seed(1)\n",
    "\n",
    "\n",
    "print(\"Second\",random.randint(50,51))\n",
    "\n"
   ]
  },
  {
   "cell_type": "code",
   "execution_count": 327,
   "id": "50d35a8f",
   "metadata": {},
   "outputs": [
    {
     "name": "stdout",
     "output_type": "stream",
     "text": [
      "0.4288890546751146\n",
      "0.5714025946899135\n"
     ]
    }
   ],
   "source": [
    "import numpy as np\n",
    "import pandas as pd\n",
    "import random\n",
    "\n",
    "\n",
    "# random.seed(10)\n",
    "\n",
    "print(random.random())\n",
    "\n",
    "random.seed(10)\n",
    "\n",
    "print(random.random())\n"
   ]
  },
  {
   "cell_type": "code",
   "execution_count": 427,
   "id": "206922f4",
   "metadata": {},
   "outputs": [
    {
     "data": {
      "text/html": [
       "<div>\n",
       "<style scoped>\n",
       "    .dataframe tbody tr th:only-of-type {\n",
       "        vertical-align: middle;\n",
       "    }\n",
       "\n",
       "    .dataframe tbody tr th {\n",
       "        vertical-align: top;\n",
       "    }\n",
       "\n",
       "    .dataframe thead th {\n",
       "        text-align: right;\n",
       "    }\n",
       "</style>\n",
       "<table border=\"1\" class=\"dataframe\">\n",
       "  <thead>\n",
       "    <tr style=\"text-align: right;\">\n",
       "      <th></th>\n",
       "      <th>r</th>\n",
       "      <th>s</th>\n",
       "    </tr>\n",
       "  </thead>\n",
       "  <tbody>\n",
       "    <tr>\n",
       "      <th>a</th>\n",
       "      <td>0.206719</td>\n",
       "      <td>0.918611</td>\n",
       "    </tr>\n",
       "    <tr>\n",
       "      <th>b</th>\n",
       "      <td>0.765908</td>\n",
       "      <td>0.518418</td>\n",
       "    </tr>\n",
       "  </tbody>\n",
       "</table>\n",
       "</div>"
      ],
      "text/plain": [
       "          r         s\n",
       "a  0.206719  0.918611\n",
       "b  0.765908  0.518418"
      ]
     },
     "execution_count": 427,
     "metadata": {},
     "output_type": "execute_result"
    }
   ],
   "source": [
    "import numpy as np\n",
    "import pandas as pd\n",
    "import random\n",
    "\n",
    "np.random.seed(5)\n",
    "df = pd.DataFrame(np.random.rand(5,4),index='a b c d e'.split(\" \"),columns='p q r s'.split(\" \"))\n",
    "df[['r','s']]\n",
    "\n",
    "type(df['p'])\n",
    "\n",
    "df[\"f\"] = [1,2,3,4,5]\n",
    "\n",
    "df.drop(\"a\",axis=0)\n",
    "\n",
    "df.iloc[2]\n",
    "\n",
    "df.loc['b','r']\n",
    "\n",
    "df.loc[['a','b'],['r','s']]"
   ]
  },
  {
   "cell_type": "code",
   "execution_count": 432,
   "id": "f3b921dd",
   "metadata": {},
   "outputs": [
    {
     "data": {
      "text/plain": [
       "[('a', 1), ('a', 2), ('a', 3), ('b', 1), ('b', 2), ('b', 3)]"
      ]
     },
     "execution_count": 432,
     "metadata": {},
     "output_type": "execute_result"
    }
   ],
   "source": [
    "a1 = ['a','a','a','b','b','b']\n",
    "b1 = [1,2,3,1,2,3]\n",
    "c = list(zip(a1,b1))\n",
    "c"
   ]
  },
  {
   "cell_type": "code",
   "execution_count": 436,
   "id": "1060f3d6",
   "metadata": {},
   "outputs": [
    {
     "data": {
      "text/html": [
       "<div>\n",
       "<style scoped>\n",
       "    .dataframe tbody tr th:only-of-type {\n",
       "        vertical-align: middle;\n",
       "    }\n",
       "\n",
       "    .dataframe tbody tr th {\n",
       "        vertical-align: top;\n",
       "    }\n",
       "\n",
       "    .dataframe thead th {\n",
       "        text-align: right;\n",
       "    }\n",
       "</style>\n",
       "<table border=\"1\" class=\"dataframe\">\n",
       "  <thead>\n",
       "    <tr style=\"text-align: right;\">\n",
       "      <th></th>\n",
       "      <th>x</th>\n",
       "      <th>y</th>\n",
       "    </tr>\n",
       "  </thead>\n",
       "  <tbody>\n",
       "    <tr>\n",
       "      <th>&lt;built-in function sum&gt;</th>\n",
       "      <td>0.964915</td>\n",
       "      <td>0.631766</td>\n",
       "    </tr>\n",
       "    <tr>\n",
       "      <th>&lt;built-in function len&gt;</th>\n",
       "      <td>0.816660</td>\n",
       "      <td>0.566082</td>\n",
       "    </tr>\n",
       "    <tr>\n",
       "      <th>&lt;built-in function print&gt;</th>\n",
       "      <td>0.635356</td>\n",
       "      <td>0.811902</td>\n",
       "    </tr>\n",
       "  </tbody>\n",
       "</table>\n",
       "</div>"
      ],
      "text/plain": [
       "                                  x         y\n",
       "<built-in function sum>    0.964915  0.631766\n",
       "<built-in function len>    0.816660  0.566082\n",
       "<built-in function print>  0.635356  0.811902"
      ]
     },
     "execution_count": 436,
     "metadata": {},
     "output_type": "execute_result"
    }
   ],
   "source": [
    "df = pd.DataFrame(np.random.rand(3,2),index=[sum,len,print],columns=['x','y'])\n",
    "df"
   ]
  }
 ],
 "metadata": {
  "kernelspec": {
   "display_name": "Python 3 (ipykernel)",
   "language": "python",
   "name": "python3"
  },
  "language_info": {
   "codemirror_mode": {
    "name": "ipython",
    "version": 3
   },
   "file_extension": ".py",
   "mimetype": "text/x-python",
   "name": "python",
   "nbconvert_exporter": "python",
   "pygments_lexer": "ipython3",
   "version": "3.11.5"
  }
 },
 "nbformat": 4,
 "nbformat_minor": 5
}
