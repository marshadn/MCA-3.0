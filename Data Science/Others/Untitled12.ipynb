{
 "cells": [
  {
   "cell_type": "code",
   "execution_count": null,
   "id": "2b061162",
   "metadata": {
    "scrolled": true
   },
   "outputs": [],
   "source": [
    "\n",
    "\n",
    "# Linear regression\n",
    "import numpy as np\n",
    "from sklearn.model_selection import train_test_split\n",
    "from sklearn.linear_model import LinearRegression\n",
    "from sklearn.metrics import mean_squared_error, r2_score\n",
    "import matplotlib.pyplot as plt \n",
    "\n",
    "\n",
    "np.random.seed(42)\n",
    "\n",
    "\n",
    "X = 2 * np.random.rand(100, 1)\n",
    "y = 4 + 3 * X + np.random.rand(100, 1)\n",
    "\n",
    "X_train, X_test, y_train, y_test = train_test_split(X, y, test_size=0.2, random_state=42)\n",
    "\n",
    "\n",
    "model = LinearRegression()\n",
    "model.fit(X_train, y_train)\n",
    "\n",
    "\n",
    "y_pred = model.predict(X_test)\n",
    "\n",
    "\n",
    "mse = mean_squared_error(y_test, y_pred)\n",
    "r2 = r2_score(y_test, y_pred)\n",
    "\n",
    "\n",
    "print(f'Mean Squared Error: {mse}')\n",
    "print(f'R-2 Score: {r2}')\n",
    "\n",
    "\n",
    "\n",
    "plt.scatter(X, y, color=\"black\")  \n",
    "  \n",
    "plt.show()  \n",
    "\n",
    "n=float(input(\"Enter a value to predict:\"))\n",
    "\n",
    "n_reshaped=np.array([[n]])\n",
    "n_predict=model.predict(n_reshaped)\n",
    "print(n_predict)"
   ]
  },
  {
   "cell_type": "code",
   "execution_count": null,
   "id": "d30d873a",
   "metadata": {},
   "outputs": [],
   "source": [
    "#r2_score it is a regression score function to evaluate the perfomance of a liner reg.model(it is rsquare called as coeff.determinant,\n",
    "#it is the amount of variable in the o/p dependent attribute which is predictble from the i/p independent variable(s) \n",
    "#rsquare=1-ssres/sstotal\n",
    "#where ssres=sum of squares of residual errors\n",
    "#sstotal=total sum of errors\n",
    "#The best possible score of r2_score is 1\n",
    "#it can  be -ve (Worst condition)\n",
    "\n",
    "\n",
    "# Qn:  actual (y) , predicted (f) , error e=y-f , E1^2 , E2=y-mean , E2^2\n",
    "       #  10          10                0           0       -10       100\n",
    "        # 20          20                0           0         0        0\n",
    "        # 30          30                0           0        10       100\n",
    "    #   --------------------------------------------------------------------------  "
   ]
  },
  {
   "cell_type": "code",
   "execution_count": null,
   "id": "15e63426",
   "metadata": {},
   "outputs": [],
   "source": [
    "import numpy as np\n",
    "import matplotlib.pyplot as plt\n",
    "from sklearn.cluster import KMeans\n",
    "\n",
    "# Generate synthetic data\n",
    "np.random.seed(0)\n",
    "X = np.random.rand(100, 2)  # 100 points in 2D\n",
    "\n",
    "# Specify the number of clusters\n",
    "k = 3\n",
    "\n",
    "# Create KMeans instance and fit it to the data\n",
    "kmeans = KMeans(n_clusters=k, random_state=0)\n",
    "kmeans.fit(X)\n",
    "\n",
    "# Get cluster centers and labels\n",
    "centroids = kmeans.cluster_centers_\n",
    "labels = kmeans.labels_\n",
    "\n",
    "# Plot the data points and centroids\n",
    "plt.scatter(X[:, 0], X[:, 1], c=labels, cmap='viridis', marker='o')\n",
    "plt.scatter(centroids[:, 0], centroids[:, 1], c='red', marker='X', s=200, label='Centroids')\n",
    "plt.title('K-means Clustering')\n",
    "plt.xlabel('Feature 1')\n",
    "plt.ylabel('Feature 2')\n",
    "plt.legend()\n",
    "plt.show()\n"
   ]
  }
 ],
 "metadata": {
  "kernelspec": {
   "display_name": "Python 3 (ipykernel)",
   "language": "python",
   "name": "python3"
  },
  "language_info": {
   "codemirror_mode": {
    "name": "ipython",
    "version": 3
   },
   "file_extension": ".py",
   "mimetype": "text/x-python",
   "name": "python",
   "nbconvert_exporter": "python",
   "pygments_lexer": "ipython3",
   "version": "3.11.5"
  }
 },
 "nbformat": 4,
 "nbformat_minor": 5
}
