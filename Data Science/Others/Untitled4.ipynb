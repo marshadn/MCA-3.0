{
 "cells": [
  {
   "cell_type": "code",
   "execution_count": 12,
   "id": "1c1c89e1",
   "metadata": {},
   "outputs": [
    {
     "name": "stdout",
     "output_type": "stream",
     "text": [
      "[[1 2]\n",
      " [3 4]]\n",
      "[[5 6]\n",
      " [7 8]]\n",
      "[[-2.   1. ]\n",
      " [ 1.5 -0.5]]\n",
      "[[1 3]\n",
      " [2 4]]\n",
      "-1.999999999999999\n",
      "[[19 22]\n",
      " [43 50]]\n",
      "[1 2 3 4]\n"
     ]
    }
   ],
   "source": [
    "import numpy as np\n",
    "m1=np.array([[1,2],[3,4]])\n",
    "m2=np.array([[5,6],[7,8]])\n",
    "print(m1)\n",
    "print(m2)\n",
    "a=np.linalg.inv(m1)\n",
    "print(a)\n",
    "b=np.transpose(m1)\n",
    "print(b)\n",
    "c=np.linalg.det(m2)\n",
    "print(c)\n",
    "d=np.dot(m1,m2)\n",
    "print(d)\n",
    "e=m1.flatten()\n",
    "print(e)\n",
    "\n"
   ]
  },
  {
   "cell_type": "code",
   "execution_count": 26,
   "id": "1f1ad697",
   "metadata": {},
   "outputs": [
    {
     "name": "stdout",
     "output_type": "stream",
     "text": [
      "Enter the no.of rows:2\n",
      "Enter the no.of cols:2\n",
      "Enter values:1\n",
      "Enter values:2\n",
      "Enter values:3\n",
      "Enter values:4\n",
      "[[1, 2], [3, 4]]\n",
      "Tranpose of the matrix is [[1 3]\n",
      " [2 4]]\n",
      "Determinant of the matrix is -1.999999999999999\n"
     ]
    }
   ],
   "source": [
    "\n",
    "mat=[]\n",
    "r=int(input(\"Enter the no.of rows:\"))\n",
    "c=int(input(\"Enter the no.of cols:\"))\n",
    "for i in range(r):\n",
    "    row= []\n",
    "    for j in range(c):\n",
    "        \n",
    "        a=int(input(\"Enter values:\"))\n",
    "        row.append(a)\n",
    "    mat.append(row)  \n",
    "        \n",
    "print(mat)\n",
    "x=np.transpose(mat)\n",
    "print(\"Tranpose of the matrix is\",x)\n",
    "c=np.linalg.det(m2)\n",
    "print(\"Determinant of the matrix is\",c)"
   ]
  },
  {
   "cell_type": "code",
   "execution_count": 32,
   "id": "3565358d",
   "metadata": {},
   "outputs": [
    {
     "name": "stdout",
     "output_type": "stream",
     "text": [
      "Enter row:3\n",
      "Enter cols:3\n",
      " 1 2 3 4 5 6 7 8 9\n",
      "[[1 2 3]\n",
      " [4 5 6]\n",
      " [7 8 9]]\n"
     ]
    }
   ],
   "source": [
    "r1=int(input(\"Enter row:\"))\n",
    "c1=int(input(\"Enter cols:\"))\n",
    "mat=[]\n",
    "a=list(map(int,input(\" \").split()))\n",
    "matrix=np.array(a).reshape(r1,c1)\n",
    "print(matrix)\n",
    "\n"
   ]
  }
 ],
 "metadata": {
  "kernelspec": {
   "display_name": "Python 3 (ipykernel)",
   "language": "python",
   "name": "python3"
  },
  "language_info": {
   "codemirror_mode": {
    "name": "ipython",
    "version": 3
   },
   "file_extension": ".py",
   "mimetype": "text/x-python",
   "name": "python",
   "nbconvert_exporter": "python",
   "pygments_lexer": "ipython3",
   "version": "3.11.5"
  }
 },
 "nbformat": 4,
 "nbformat_minor": 5
}
