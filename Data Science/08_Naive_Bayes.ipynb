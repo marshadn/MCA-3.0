{
 "cells": [
  {
   "cell_type": "code",
   "execution_count": null,
   "id": "8cd74014-b560-4afb-9443-64807712cb8f",
   "metadata": {},
   "outputs": [],
   "source": [
    "# Exercise 8: Naive Bayes Classifier Implementation for Iris Dataset\n",
    "\n",
    "# Importing necessary libraries\n",
    "import pandas as pd\n",
    "import matplotlib.pyplot as plt\n",
    "import numpy as np\n",
    "from sklearn import datasets\n",
    "from sklearn import naive_bayes\n",
    "from sklearn.model_selection import train_test_split\n",
    "from sklearn.metrics import accuracy_score\n",
    "\n",
    "# Loading the Iris dataset\n",
    "db = datasets.load_iris()\n",
    "X, y = db.data, db.target\n",
    "\n",
    "# Splitting the dataset into training and testing sets\n",
    "X_train, X_test, y_train, y_test = train_test_split(X, y, train_size=0.7, random_state=42)\n",
    "\n",
    "# Creating and training the Naive Bayes classifier\n",
    "classifier = naive_bayes.GaussianNB()\n",
    "classifier.fit(X_train, y_train)\n",
    "\n",
    "# Making predictions and calculating accuracy\n",
    "y_pred = classifier.predict(X_test)\n",
    "accuracy = accuracy_score(y_test, y_pred)\n",
    "print(f'Accuracy: {accuracy * 100:.2f}%')\n",
    "\n",
    "# Prediction on unseen data\n",
    "new_data = np.array([[5.0, 3.5, 1.5, 0.2]])\n",
    "result = classifier.predict(new_data)\n",
    "print(\"Predicted Class:\", db.target_names[result][0])\n",
    "\n",
    "# Scatter Plot to visualize the predictions\n",
    "plt.figure(figsize=(10, 6))\n",
    "colors = ['blue', 'orange', 'green']\n",
    "for i in range(3):\n",
    "    plt.scatter(X_test[y_pred == i, 2], X_test[y_pred == i, 3], color=colors[i], alpha=0.7, edgecolors='k', label=db.target_names[i])\n",
    "\n",
    "# Highlighting the new sample prediction\n",
    "plt.scatter(new_data[0, 2], new_data[0, 3], color='purple', s=100, edgecolors='k', label='New Sample Prediction')\n",
    "plt.title('Naive Bayes Predictions on Iris Dataset (Petal Length vs. Petal Width)')\n",
    "plt.xlabel('Petal Length (cm)')\n",
    "plt.ylabel('Petal Width (cm)')\n",
    "plt.grid()\n",
    "plt.legend()\n",
    "plt.show()\n"
   ]
  }
 ],
 "metadata": {
  "kernelspec": {
   "display_name": "Python 3 (ipykernel)",
   "language": "python",
   "name": "python3"
  },
  "language_info": {
   "codemirror_mode": {
    "name": "ipython",
    "version": 3
   },
   "file_extension": ".py",
   "mimetype": "text/x-python",
   "name": "python",
   "nbconvert_exporter": "python",
   "pygments_lexer": "ipython3",
   "version": "3.12.6"
  }
 },
 "nbformat": 4,
 "nbformat_minor": 5
}
