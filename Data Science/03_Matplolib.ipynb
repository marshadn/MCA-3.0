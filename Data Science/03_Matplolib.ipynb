{
 "cells": [
  {
   "cell_type": "code",
   "execution_count": null,
   "id": "bf3f93f9",
   "metadata": {
    "vscode": {
     "languageId": "plaintext"
    }
   },
   "outputs": [],
   "source": [
    "# Program 1\n",
    "import matplotlib.pyplot as plt\n",
    "\n",
    "# Program 1\n",
    "x = [1, 2, 6, 18]\n",
    "y = [3, 10, 12, 20]\n",
    "plt.plot(x, y, color=\"red\", marker='v', mfc='g', mec='g', linestyle=\":\")\n",
    "plt.grid(True)\n",
    "plt.show()\n",
    "\n",
    "# Program 2\n",
    "x = [12, 14, 16, 18, 20, 22, 24]\n",
    "y = [100, 200, 250, 400, 300, 450, 500]\n",
    "plt.plot(x, y)\n",
    "plt.xlabel(\"Temp\")\n",
    "plt.ylabel(\"Sales\")\n",
    "plt.show()\n",
    "\n",
    "# Program 3\n",
    "x_values = []\n",
    "y_values = []\n",
    "with open(\"data.txt\", 'r') as file:\n",
    "    for line in file:\n",
    "        values = line.strip().split()\n",
    "        x_values.append(float(values[0]))\n",
    "        y_values.append(float(values[1]))\n",
    "plt.plot(x_values, y_values, marker='o', linestyle='-', color='b')\n",
    "plt.xlabel\n"
   ]
  }
 ],
 "metadata": {
  "language_info": {
   "name": "python"
  }
 },
 "nbformat": 4,
 "nbformat_minor": 5
}
