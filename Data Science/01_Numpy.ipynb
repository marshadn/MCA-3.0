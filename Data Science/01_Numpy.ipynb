{
 "cells": [
  {
   "cell_type": "code",
   "execution_count": null,
   "id": "4dc22828",
   "metadata": {
    "vscode": {
     "languageId": "plaintext"
    }
   },
   "outputs": [],
   "source": [
    "import numpy as np\n",
    "\n",
    "# 1. Evaluate two lists\n",
    "l1 = np.array([1, 2, 3, 4])\n",
    "l2 = np.array([5, 6, 1, 7])\n",
    "gr = np.greater(l1, l2)\n",
    "le = np.less_equal(l1, l2)\n",
    "ge = np.greater_equal(l1, l2)\n",
    "lt = np.less(l1, l2)\n",
    "eq = np.equal(l1, l2)\n",
    "print(\"L1 > L2:\", gr, \"\\nL1 <= L2:\", le, \"\\nL1 >= L2:\", ge, \"\\nL1 < L2:\", lt, \"\\nL1 = L2:\", eq)\n",
    "\n",
    "# 2. Generate an array of even numbers from 50 to 90\n",
    "l = np.arange(50, 91, 2)\n",
    "print(\"\\nArray of even numbers from 50 to 90:\", l)\n",
    "\n",
    "# 3. Generate a 4x4 identity matrix\n",
    "i = np.identity(4, dtype=int)\n",
    "print(\"\\n4x4 Identity Matrix:\\n\", i)\n",
    "\n",
    "# 4. Generate a 5x5 zero matrix with elements on the main diagonal as 1,2,3,4,5\n",
    "z = np.diag([1, 2, 3, 4, 5])\n",
    "print(\"\\n5x5 Matrix with main diagonal as 1,2,3,4,5:\\n\", z)\n",
    "\n",
    "# 5. Create a vector with values from 0 to 20 and change the sign of numbers in the range 9 to 15\n",
    "n = np.arange(0, 21)\n",
    "n[9:16] *= -1\n",
    "print(\"\\nVector after changing sign of numbers from 9 to 15:\\n\", n)\n",
    "\n",
    "# 6. Compute sum of all elements, sum of each row, and sum of each column for a given array\n",
    "a1 = np.array([[1, 2], [5, 3]])\n",
    "print(\"\\nSum of all elements:\", a1.sum())\n",
    "print(\"Sum of rows:\", a1.sum(axis=1))\n",
    "print(\"Sum of columns:\", a1.sum(axis=0))\n",
    "\n",
    "# 7. Save an array to a text file and load it\n",
    "n = np.arange(0, 10)\n",
    "np.savetxt(\"file.txt\", n, fmt=\"%d\")\n",
    "loaded_n = np.loadtxt(\"file.txt\", dtype=int)\n",
    "print(\"\\nLoaded array from text file:\", loaded_n)\n",
    "\n",
    "# 8. Check if two arrays are equal (element-wise comparison)\n",
    "n1 = np.array([0, 10])\n",
    "n2 = np.array([0, 4])\n",
    "a = np.equal(n1, n2)\n",
    "print(\"\\nArray 1:\", n1)\n",
    "print(\"Array 2:\", n2)\n",
    "print(\"Element-wise comparison:\", a)\n",
    "\n",
    "# 9. Create a 4x4 array with random values and swap the 1st and last rows\n",
    "m1 = np.random.randint(2, 10, (4, 4))\n",
    "print(\"\\nOriginal 4x4 matrix:\\n\", m1)\n",
    "m1[[0, -1]] = m1[[-1, 0]]\n",
    "print(\"\\nMatrix after swapping 1st and last row:\\n\", m1)\n",
    "\n",
    "# 10. Multiply two arrays of the same size element by element\n",
    "n1 = np.array([1, 2, 3, 4, 5])\n",
    "n2 = np.array([2, 3, 4, 5, 6])\n",
    "print(\"\\nArray 1:\", n1)\n",
    "print(\"Array 2:\", n2)\n",
    "print(\"Element-wise product:\", n1 * n2)\n"
   ]
  }
 ],
 "metadata": {
  "language_info": {
   "name": "python"
  }
 },
 "nbformat": 4,
 "nbformat_minor": 5
}
