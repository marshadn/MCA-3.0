{
 "cells": [
  {
   "cell_type": "code",
   "execution_count": null,
   "id": "2d3694f7",
   "metadata": {
    "vscode": {
     "languageId": "plaintext"
    }
   },
   "outputs": [],
   "source": [
    "# Exercise 4: Introduction to Pandas\n",
    "\n",
    "# 1. Write a python program to convert list to series.\n",
    "import pandas as pd\n",
    "\n",
    "# Converting a list to a pandas Series\n",
    "sample_list = [10, 20, 30, 40, 50]\n",
    "result_series = pd.Series(sample_list)\n",
    "print(\"Original List:\", sample_list)\n",
    "print(\"Converted Series:\")\n",
    "print(result_series)\n",
    "\n",
    "# 2. Write a python program to generate series of dates from 1 August 2024 to 15 August 2024.\n",
    "start_date = '2024-08-01'\n",
    "end_date = '2024-08-15'\n",
    "dates = pd.date_range(start_date, end_date)\n",
    "print(\"\\nSeries of Dates from 1 August 2024 to 15 August 2024:\")\n",
    "print(dates)\n",
    "\n",
    "# 3. Write a program to convert a dictionary to DataFrame and display it.\n",
    "data = {\n",
    "    'Name': ['Dhoni', 'Virat', 'Rohit', 'Sanju'],\n",
    "    'No:': [7, 18, 45, 11],\n",
    "    'Team': ['CSK', 'RCB', 'MI', 'RR']\n",
    "}\n",
    "print(\"\\nDictionary: \", data)\n",
    "df_dict = pd.DataFrame(data)\n",
    "print(\"\\nConverted DataFrame:\")\n",
    "print(df_dict)\n",
    "\n",
    "# 4. Write a program to create a 2D list and convert it into DataFrame and display it.\n",
    "data_2d = [\n",
    "    ['Mbappe', 9, 'FW'],\n",
    "    ['Vini', 7, 'LW'],\n",
    "    ['Rodrygo', 11, 'RW'],\n",
    "    ['Bellingham', 5, 'AMF']\n",
    "]\n",
    "print(\"\\n2D List: \", data_2d)\n",
    "column_names = ['Name', 'No:', 'Position']\n",
    "df_2d = pd.DataFrame(data_2d, columns=column_names)\n",
    "print(\"\\nConverted DataFrame:\")\n",
    "print(df_2d)\n"
   ]
  }
 ],
 "metadata": {
  "language_info": {
   "name": "python"
  }
 },
 "nbformat": 4,
 "nbformat_minor": 5
}
